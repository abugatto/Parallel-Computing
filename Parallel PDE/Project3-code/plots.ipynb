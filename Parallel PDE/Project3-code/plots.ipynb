{
 "cells": [
  {
   "cell_type": "code",
   "execution_count": null,
   "metadata": {},
   "outputs": [],
   "source": []
  },
  {
   "cell_type": "code",
   "execution_count": null,
   "metadata": {},
   "outputs": [],
   "source": [
    "# Load data\n",
    "colnames = ['Runtime','N','p']\n",
    "data = pd.read_csv('linear.csv',names=colnames, index_col=False, sep=\",\")\n",
    "\n",
    "runtimes = data[\"Runtime\"].tolist()\n",
    "size = data[\"N\"].tolist()\n",
    "threads = data['p'].tolist()"
   ]
  }
 ],
 "metadata": {
  "language_info": {
   "name": "python"
  },
  "orig_nbformat": 4
 },
 "nbformat": 4,
 "nbformat_minor": 2
}
